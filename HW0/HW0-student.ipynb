{
 "cells": [
  {
   "cell_type": "code",
   "execution_count": null,
   "id": "57c01ec2",
   "metadata": {},
   "outputs": [],
   "source": [
    "# Load a data matrix into python\n",
    "import pandas as pd\n",
    "import numpy as np\n",
    "\n",
    "# Load the data\n",
    "df = pd.read_csv('sample_data.csv')\n",
    "\n",
    "# If you need the data as a numpy array\n",
    "matrix = df.values\n",
    "df"
   ]
  },
  {
   "cell_type": "code",
   "execution_count": null,
   "id": "8b855117",
   "metadata": {},
   "outputs": [],
   "source": [
    "# Randomly select 10 rows from the matrix without replacement to create a subset  -- 20 points\n",
    "subset = matrix[np.random.choice(matrix.shape[0], size=10, replace=False)]\n",
    "subset"
   ]
  },
  {
   "cell_type": "code",
   "execution_count": null,
   "id": "6699dd8e",
   "metadata": {},
   "outputs": [],
   "source": [
    "# (10 points) Select all rows from the matrix where the value in the first column is greater than 5  -- 20 points\n",
    "subset = matrix[matrix[:, 0] > 5]\n",
    "subset"
   ]
  },
  {
   "cell_type": "code",
   "execution_count": null,
   "id": "b765885a",
   "metadata": {},
   "outputs": [],
   "source": [
    "# Retrieve one row (sample) from the matrix based on its index, in this case, the first row (index 0)  -- 10 points\n",
    "subset = matrix[0]\n",
    "subset"
   ]
  },
  {
   "cell_type": "code",
   "execution_count": null,
   "id": "50c4644a",
   "metadata": {},
   "outputs": [],
   "source": [
    "# Retrieve one column (feature) from the matrix based on its index, in this case, the first column (index 0)  -- 10 points\n",
    "subset = matrix[:, 0]\n",
    "subset"
   ]
  },
  {
   "cell_type": "code",
   "execution_count": null,
   "id": "5755ba5b",
   "metadata": {},
   "outputs": [],
   "source": [
    "# Apply feature normalization to the matrix using StandardScaler, which standardizes each feature to have a mean of 0 and a standard deviation of 1\n",
    "from sklearn.preprocessing import StandardScaler\n",
    "scaler = StandardScaler()\n",
    "normalized_matrix = scaler.fit_transform(matrix)\n",
    "\n",
    "normalized_matrix"
   ]
  },
  {
   "cell_type": "code",
   "execution_count": null,
   "id": "5c1396aa",
   "metadata": {},
   "outputs": [],
   "source": [
    "# Perform min-max normalization on the matrix, scaling each feature to a range of 0 to 1 by subtracting the minimum and dividing by the range (max - min) for each column  -- 20 points\n",
    "min_vals = matrix.min(axis=0)\n",
    "max_vals = matrix.max(axis=0)\n",
    "normalized_matrix = (matrix - min_vals) / (max_vals - min_vals)\n",
    "\n",
    "normalized_matrix"
   ]
  },
  {
   "cell_type": "code",
   "execution_count": null,
   "id": "693d06d0",
   "metadata": {},
   "outputs": [],
   "source": [
    "# Calculate and print the cosine similarity between two samples from the matrix by subtracting the cosine distance from 1  -- 10 points\n",
    "from scipy.spatial.distance import cosine\n",
    "sample1 = matrix[0]\n",
    "sample2 = matrix[1]\n",
    "\n",
    "cosine_distance = cosine(sample1, sample2)\n",
    "\n",
    "cosine_similarity = 1 - cosine_distance\n",
    "\n",
    "cosine_similarity"
   ]
  },
  {
   "cell_type": "code",
   "execution_count": null,
   "id": "1c99e71a",
   "metadata": {},
   "outputs": [],
   "source": [
    "# Calculate and print the dot of 2 matrix   -- 10 points\n",
    "A_a = np.array([[1, 2], [4, 5], [7, 8]])\n",
    "B_a = np.array([[1, 1, 0], [0, 1, 1]])\n",
    "\n",
    "result = np.dot(A_a, B_a)\n",
    "result"
   ]
  },
  {
   "cell_type": "code",
   "execution_count": 48,
   "id": "ffeddf6d",
   "metadata": {},
   "outputs": [],
   "source": [
    "A_b = np.array([[1, 2, 3], [4, 5, 6], [7, 8, 9]])\n",
    "B_b = np.array([[1, 1, 0], [0, 1, 1], [1, 0, 1]])"
   ]
  },
  {
   "cell_type": "code",
   "execution_count": null,
   "id": "73316db2",
   "metadata": {},
   "outputs": [],
   "source": [
    "result = np.dot(A_b, B_b)\n",
    "result"
   ]
  }
 ],
 "metadata": {
  "kernelspec": {
   "display_name": "Python 3 (ipykernel)",
   "language": "python",
   "name": "python3"
  },
  "language_info": {
   "codemirror_mode": {
    "name": "ipython",
    "version": 3
   },
   "file_extension": ".py",
   "mimetype": "text/x-python",
   "name": "python",
   "nbconvert_exporter": "python",
   "pygments_lexer": "ipython3",
   "version": "3.9.12"
  }
 },
 "nbformat": 4,
 "nbformat_minor": 5
}
