{
 "cells": [
  {
   "cell_type": "code",
   "execution_count": 2,
   "id": "57c01ec2",
   "metadata": {},
   "outputs": [],
   "source": [
    "# Load a data matrix into python\n",
    "import pandas as pd\n",
    "\n",
    "# Load the data\n",
    "df = pd.read_csv('sample_data.csv')\n",
    "\n",
    "# If you need the data as a numpy array\n",
    "matrix = df.values\n"
   ]
  },
  {
   "cell_type": "code",
   "execution_count": 4,
   "id": "8b855117",
   "metadata": {},
   "outputs": [],
   "source": [
    "# Randomly select 10 rows from the matrix without replacement to create a subset  -- 20 points\n",
    "\n",
    "\n",
    "\n"
   ]
  },
  {
   "cell_type": "code",
   "execution_count": 5,
   "id": "6699dd8e",
   "metadata": {},
   "outputs": [],
   "source": [
    "# (10 points) Select all rows from the matrix where the value in the first column is greater than 5  -- 20 points\n",
    "\n"
   ]
  },
  {
   "cell_type": "code",
   "execution_count": 7,
   "id": "b765885a",
   "metadata": {},
   "outputs": [],
   "source": [
    "# Retrieve one row (sample) from the matrix based on its index, in this case, the first row (index 0)  -- 10 points\n",
    "\n"
   ]
  },
  {
   "cell_type": "code",
   "execution_count": 8,
   "id": "50c4644a",
   "metadata": {},
   "outputs": [],
   "source": [
    "# Retrieve one column (feature) from the matrix based on its index, in this case, the first column (index 0)  -- 10 points\n",
    "\n"
   ]
  },
  {
   "cell_type": "code",
   "execution_count": 9,
   "id": "5755ba5b",
   "metadata": {},
   "outputs": [],
   "source": [
    "# Apply feature normalization to the matrix using StandardScaler, which standardizes each feature to have a mean of 0 and a standard deviation of 1\n",
    "from sklearn.preprocessing import StandardScaler\n",
    "scaler = StandardScaler()\n",
    "normalized_matrix = scaler.fit_transform(matrix)\n",
    "\n"
   ]
  },
  {
   "cell_type": "code",
   "execution_count": 10,
   "id": "5c1396aa",
   "metadata": {},
   "outputs": [],
   "source": [
    "# Perform min-max normalization on the matrix, scaling each feature to a range of 0 to 1 by subtracting the minimum and dividing by the range (max - min) for each column  -- 20 points\n",
    "\n"
   ]
  },
  {
   "cell_type": "code",
   "execution_count": 12,
   "id": "693d06d0",
   "metadata": {},
   "outputs": [],
   "source": [
    "# Calculate and print the cosine similarity between two samples from the matrix by subtracting the cosine distance from 1  -- 10 points\n",
    "from scipy.spatial.distance import cosine\n",
    "sample1 = matrix[0]\n",
    "sample2 = matrix[1]\n",
    "\n",
    "\n"
   ]
  },
  {
   "cell_type": "code",
   "execution_count": 13,
   "id": "1c99e71a",
   "metadata": {},
   "outputs": [],
   "source": [
    "# Calculate and print the dot of 2 matrix   -- 10 points\n",
    "A_a = np.array([[1, 2], [4, 5], [7, 8]])\n",
    "B_a = np.array([[1, 1, 0], [0, 1, 1]])\n"
   ]
  },
  {
   "cell_type": "code",
   "execution_count": 14,
   "id": "ffeddf6d",
   "metadata": {},
   "outputs": [],
   "source": [
    "A_b = np.array([[1, 2, 3], [4, 5, 6], [7, 8, 9]])\n",
    "B_b = np.array([[1, 1, 0], [0, 1, 1], [1, 0, 1]])\n"
   ]
  },
  {
   "cell_type": "code",
   "execution_count": null,
   "id": "73316db2",
   "metadata": {},
   "outputs": [],
   "source": []
  }
 ],
 "metadata": {
  "kernelspec": {
   "display_name": "Python 3 (ipykernel)",
   "language": "python",
   "name": "python3"
  },
  "language_info": {
   "codemirror_mode": {
    "name": "ipython",
    "version": 3
   },
   "file_extension": ".py",
   "mimetype": "text/x-python",
   "name": "python",
   "nbconvert_exporter": "python",
   "pygments_lexer": "ipython3",
   "version": "3.10.12"
  }
 },
 "nbformat": 4,
 "nbformat_minor": 5
}
